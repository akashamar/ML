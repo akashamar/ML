{
 "cells": [
  {
   "cell_type": "code",
   "execution_count": 1,
   "id": "88c872f8",
   "metadata": {},
   "outputs": [],
   "source": [
    "import os\n",
    "import cv2\n",
    "import numpy as np\n",
    "from sklearn.model_selection import train_test_split\n",
    "from sklearn.tree import DecisionTreeClassifier\n",
    "from sklearn.metrics import accuracy_score"
   ]
  },
  {
   "cell_type": "code",
   "execution_count": 2,
   "id": "4eff2953",
   "metadata": {},
   "outputs": [],
   "source": [
    "# Set the paths to your rock, paper, and scissor folders\n",
    "rock_folder = 'rock/'\n",
    "paper_folder = 'paper/'\n",
    "scissor_folder = 'scissors/'"
   ]
  },
  {
   "cell_type": "code",
   "execution_count": 3,
   "id": "24b3711f",
   "metadata": {},
   "outputs": [],
   "source": [
    "# Parameters for resizing images\n",
    "image_width = 128  # Desired width\n",
    "image_height = 128  # Desired height"
   ]
  },
  {
   "cell_type": "code",
   "execution_count": 4,
   "id": "ab057a09",
   "metadata": {},
   "outputs": [],
   "source": [
    "# Function to extract HOG features from an image\n",
    "def extract_hog_features(image):\n",
    "    hog = cv2.HOGDescriptor()\n",
    "    hog_features = hog.compute(image)\n",
    "    hog_features = hog_features.reshape(-1)  # Flatten the feature vector\n",
    "    return hog_features"
   ]
  },
  {
   "cell_type": "code",
   "execution_count": 5,
   "id": "30d0a44e",
   "metadata": {},
   "outputs": [],
   "source": [
    "# Load and process the images\n",
    "X = []\n",
    "y = []"
   ]
  },
  {
   "cell_type": "code",
   "execution_count": 6,
   "id": "b6f18f67",
   "metadata": {},
   "outputs": [
    {
     "name": "stdout",
     "output_type": "stream",
     "text": [
      "started: rock/\n",
      "ended: rock/\n"
     ]
    }
   ],
   "source": [
    "# Load rock images\n",
    "print('started:', rock_folder)\n",
    "for filename in os.listdir(rock_folder):\n",
    "    if filename.endswith('.png'):\n",
    "        image = cv2.imread(os.path.join(rock_folder, filename))\n",
    "        image = cv2.resize(image, (image_width, image_height))  # Resize the image\n",
    "        hog_features = extract_hog_features(image)\n",
    "        X.append(hog_features)\n",
    "        y.append(0)  # Rock class label\n",
    "print('ended:', rock_folder)"
   ]
  },
  {
   "cell_type": "code",
   "execution_count": 7,
   "id": "0c5d6d61",
   "metadata": {},
   "outputs": [
    {
     "name": "stdout",
     "output_type": "stream",
     "text": [
      "started: paper/\n",
      "ended: paper/\n"
     ]
    }
   ],
   "source": [
    "# Load paper images\n",
    "print('started:', paper_folder)\n",
    "for filename in os.listdir(paper_folder):\n",
    "    if filename.endswith('.png'):\n",
    "        image = cv2.imread(os.path.join(paper_folder, filename))\n",
    "        image = cv2.resize(image, (image_width, image_height))  # Resize the image\n",
    "        hog_features = extract_hog_features(image)\n",
    "        X.append(hog_features)\n",
    "        y.append(1)  # Paper class label\n",
    "print('ended:', paper_folder)"
   ]
  },
  {
   "cell_type": "code",
   "execution_count": 8,
   "id": "19cb6558",
   "metadata": {},
   "outputs": [
    {
     "name": "stdout",
     "output_type": "stream",
     "text": [
      "started: scissors/\n",
      "ended: scissors/\n"
     ]
    }
   ],
   "source": [
    "# Load scissor images\n",
    "print('started:', scissor_folder)\n",
    "for filename in os.listdir(scissor_folder):\n",
    "    if filename.endswith('.png'):\n",
    "        image = cv2.imread(os.path.join(scissor_folder, filename))\n",
    "        image = cv2.resize(image, (image_width, image_height))  # Resize the image\n",
    "        hog_features = extract_hog_features(image)\n",
    "        X.append(hog_features)\n",
    "        y.append(2)  # Scissor class label\n",
    "print('ended:', scissor_folder)"
   ]
  },
  {
   "cell_type": "code",
   "execution_count": null,
   "id": "c93df2ef",
   "metadata": {},
   "outputs": [],
   "source": [
    "# Convert the feature matrix and labels to numpy arrays\n",
    "X = np.array(X)\n",
    "y = np.array(y)"
   ]
  },
  {
   "cell_type": "code",
   "execution_count": null,
   "id": "cbd22329",
   "metadata": {},
   "outputs": [],
   "source": [
    "# Split the data into training and testing sets\n",
    "X_train, X_test, y_train, y_test = train_test_split(X, y, test_size=0.2, random_state=42)"
   ]
  },
  {
   "cell_type": "code",
   "execution_count": 1,
   "id": "901cf833",
   "metadata": {},
   "outputs": [
    {
     "ename": "NameError",
     "evalue": "name 'DecisionTreeClassifier' is not defined",
     "output_type": "error",
     "traceback": [
      "\u001b[0;31m---------------------------------------------------------------------------\u001b[0m",
      "\u001b[0;31mNameError\u001b[0m                                 Traceback (most recent call last)",
      "Cell \u001b[0;32mIn[1], line 2\u001b[0m\n\u001b[1;32m      1\u001b[0m \u001b[38;5;66;03m# Create the decision tree classifier\u001b[39;00m\n\u001b[0;32m----> 2\u001b[0m model \u001b[38;5;241m=\u001b[39m \u001b[43mDecisionTreeClassifier\u001b[49m()\n\u001b[1;32m      4\u001b[0m \u001b[38;5;66;03m# Train the model on the training set\u001b[39;00m\n\u001b[1;32m      5\u001b[0m model\u001b[38;5;241m.\u001b[39mfit(X_train, y_train)\n",
      "\u001b[0;31mNameError\u001b[0m: name 'DecisionTreeClassifier' is not defined"
     ]
    }
   ],
   "source": [
    "# Create the decision tree classifier\n",
    "model = DecisionTreeClassifier()\n",
    "\n",
    "# Train the model on the training set\n",
    "model.fit(X_train, y_train)\n",
    "\n",
    "# Make predictions on the test set\n",
    "y_pred = model.predict(X_test)\n",
    "\n",
    "# Evaluate the model's accuracy\n",
    "accuracy = accuracy_score(y_test, y_pred)\n",
    "print(\"Accuracy:\", accuracy)"
   ]
  },
  {
   "cell_type": "code",
   "execution_count": null,
   "id": "0693828b",
   "metadata": {},
   "outputs": [],
   "source": []
  }
 ],
 "metadata": {
  "kernelspec": {
   "display_name": "Python 3 (ipykernel)",
   "language": "python",
   "name": "python3"
  },
  "language_info": {
   "codemirror_mode": {
    "name": "ipython",
    "version": 3
   },
   "file_extension": ".py",
   "mimetype": "text/x-python",
   "name": "python",
   "nbconvert_exporter": "python",
   "pygments_lexer": "ipython3",
   "version": "3.10.6"
  }
 },
 "nbformat": 4,
 "nbformat_minor": 5
}
